{
 "cells": [
  {
   "cell_type": "code",
   "execution_count": 172,
   "metadata": {},
   "outputs": [],
   "source": [
    "import matplotlib.pyplot as plt\n",
    "import numpy as np\n",
    "from geopy import geocoders\n",
    "import geonamescache\n",
    "from geonamescache.mappers import country\n",
    "import pandas as pd"
   ]
  },
  {
   "cell_type": "code",
   "execution_count": 173,
   "metadata": {},
   "outputs": [],
   "source": [
    "group1 = ['india', 'mumbai', 'pune', 'kolkata', 'delhi', 'banglore', 'punjab','chandigarh', 'gujarat','new delhi''hyderabad']\n",
    "group2 = ['usa' , 'canada', 'america','texas','unitedkingdom','london']\n",
    "group3 = ['pakistan','peshawar','islamabad','mohali','rawalpindi','multan']\n"
   ]
  },
  {
   "cell_type": "code",
   "execution_count": 174,
   "metadata": {},
   "outputs": [
    {
     "data": {
      "text/html": [
       "<div>\n",
       "<style scoped>\n",
       "    .dataframe tbody tr th:only-of-type {\n",
       "        vertical-align: middle;\n",
       "    }\n",
       "\n",
       "    .dataframe tbody tr th {\n",
       "        vertical-align: top;\n",
       "    }\n",
       "\n",
       "    .dataframe thead th {\n",
       "        text-align: right;\n",
       "    }\n",
       "</style>\n",
       "<table border=\"1\" class=\"dataframe\">\n",
       "  <thead>\n",
       "    <tr style=\"text-align: right;\">\n",
       "      <th></th>\n",
       "      <th>Unnamed: 0</th>\n",
       "      <th>user_id</th>\n",
       "      <th>created_at</th>\n",
       "      <th>tweet</th>\n",
       "      <th>hashtags</th>\n",
       "      <th>retweet_count</th>\n",
       "      <th>favourite_count</th>\n",
       "      <th>tweet_url</th>\n",
       "      <th>user_location</th>\n",
       "      <th>tweet_urls</th>\n",
       "    </tr>\n",
       "  </thead>\n",
       "  <tbody>\n",
       "    <tr>\n",
       "      <th>0</th>\n",
       "      <td>0</td>\n",
       "      <td>b'jst1step2Biafra'</td>\n",
       "      <td>2020-10-02 12:37:02</td>\n",
       "      <td>b'YESTERDAY #SitAtHomeOnOctober1st @1stOct #Ni...</td>\n",
       "      <td>[{'text': 'SitAtHomeOnOctober1st', 'indices': ...</td>\n",
       "      <td>0</td>\n",
       "      <td>0</td>\n",
       "      <td>NaN</td>\n",
       "      <td>NaN</td>\n",
       "      <td>[{'url': 'https://t.co/o0ckHHYVFH', 'expanded_...</td>\n",
       "    </tr>\n",
       "    <tr>\n",
       "      <th>1</th>\n",
       "      <td>1</td>\n",
       "      <td>b'beingvick'</td>\n",
       "      <td>2020-10-02 12:32:12</td>\n",
       "      <td>b'RT @KhalistanIsAJo1: #Pannun - One man, mult...</td>\n",
       "      <td>[{'text': 'Pannun', 'indices': [21, 28]}, {'te...</td>\n",
       "      <td>13</td>\n",
       "      <td>0</td>\n",
       "      <td>NaN</td>\n",
       "      <td>NaN</td>\n",
       "      <td>[]</td>\n",
       "    </tr>\n",
       "    <tr>\n",
       "      <th>2</th>\n",
       "      <td>2</td>\n",
       "      <td>b'jst1step2Biafra'</td>\n",
       "      <td>2020-10-02 12:30:56</td>\n",
       "      <td>b'YESTERDAY #SitAtHomeOnOctober1st @1stOct #Ni...</td>\n",
       "      <td>[{'text': 'SitAtHomeOnOctober1st', 'indices': ...</td>\n",
       "      <td>0</td>\n",
       "      <td>1</td>\n",
       "      <td>NaN</td>\n",
       "      <td>NaN</td>\n",
       "      <td>[{'url': 'https://t.co/ArUnCfJTXq', 'expanded_...</td>\n",
       "    </tr>\n",
       "    <tr>\n",
       "      <th>3</th>\n",
       "      <td>3</td>\n",
       "      <td>b'Randhee25160680'</td>\n",
       "      <td>2020-10-02 12:16:23</td>\n",
       "      <td>b'RT @KhalistanIsAJo1: #Pannun - One man, mult...</td>\n",
       "      <td>[{'text': 'Pannun', 'indices': [21, 28]}, {'te...</td>\n",
       "      <td>13</td>\n",
       "      <td>0</td>\n",
       "      <td>NaN</td>\n",
       "      <td>NaN</td>\n",
       "      <td>[]</td>\n",
       "    </tr>\n",
       "    <tr>\n",
       "      <th>4</th>\n",
       "      <td>4</td>\n",
       "      <td>b'ogeiznltd'</td>\n",
       "      <td>2020-10-02 11:20:46</td>\n",
       "      <td>b'RT @JonasMaduakolam: @MaziNnamdiKanu @nassni...</td>\n",
       "      <td>[]</td>\n",
       "      <td>3</td>\n",
       "      <td>0</td>\n",
       "      <td>NaN</td>\n",
       "      <td>NaN</td>\n",
       "      <td>[]</td>\n",
       "    </tr>\n",
       "    <tr>\n",
       "      <th>...</th>\n",
       "      <td>...</td>\n",
       "      <td>...</td>\n",
       "      <td>...</td>\n",
       "      <td>...</td>\n",
       "      <td>...</td>\n",
       "      <td>...</td>\n",
       "      <td>...</td>\n",
       "      <td>...</td>\n",
       "      <td>...</td>\n",
       "      <td>...</td>\n",
       "    </tr>\n",
       "    <tr>\n",
       "      <th>3803</th>\n",
       "      <td>3318</td>\n",
       "      <td>b'VB_Subrahmanyam'</td>\n",
       "      <td>2020-09-24 12:11:49</td>\n",
       "      <td>b'RT @ChiragdeepDahi1: #ShameOnKhalistaniSuppo...</td>\n",
       "      <td>[{'text': 'ShameOnKhalistaniSupporters', 'indi...</td>\n",
       "      <td>40</td>\n",
       "      <td>0</td>\n",
       "      <td>NaN</td>\n",
       "      <td>India</td>\n",
       "      <td>[]</td>\n",
       "    </tr>\n",
       "    <tr>\n",
       "      <th>3804</th>\n",
       "      <td>3319</td>\n",
       "      <td>b'Sukhlee72644266'</td>\n",
       "      <td>2020-09-24 12:10:35</td>\n",
       "      <td>b'RT @Gsimran07: There is no doubt that #Pakis...</td>\n",
       "      <td>[{'text': 'Pakistan', 'indices': [38, 47]}, {'...</td>\n",
       "      <td>50</td>\n",
       "      <td>0</td>\n",
       "      <td>NaN</td>\n",
       "      <td>NaN</td>\n",
       "      <td>[]</td>\n",
       "    </tr>\n",
       "    <tr>\n",
       "      <th>3805</th>\n",
       "      <td>3320</td>\n",
       "      <td>b'SimranK60419840'</td>\n",
       "      <td>2020-09-24 11:58:58</td>\n",
       "      <td>b'RT @Gsimran07: There is no doubt that #Pakis...</td>\n",
       "      <td>[{'text': 'Pakistan', 'indices': [38, 47]}, {'...</td>\n",
       "      <td>50</td>\n",
       "      <td>0</td>\n",
       "      <td>NaN</td>\n",
       "      <td>NaN</td>\n",
       "      <td>[]</td>\n",
       "    </tr>\n",
       "    <tr>\n",
       "      <th>3806</th>\n",
       "      <td>3321</td>\n",
       "      <td>b'atulsubodh'</td>\n",
       "      <td>2020-09-24 11:58:27</td>\n",
       "      <td>b\"RT @Singh_Gurmeeet: A #Sikh openly rejecting...</td>\n",
       "      <td>[{'text': 'Sikh', 'indices': [22, 27]}, {'text...</td>\n",
       "      <td>3</td>\n",
       "      <td>0</td>\n",
       "      <td>NaN</td>\n",
       "      <td>MA USA</td>\n",
       "      <td>[]</td>\n",
       "    </tr>\n",
       "    <tr>\n",
       "      <th>3807</th>\n",
       "      <td>3322</td>\n",
       "      <td>b'KaranpreetDhil3'</td>\n",
       "      <td>2020-09-24 11:54:41</td>\n",
       "      <td>b\"RT @Singh_Gurmeeet: A #Sikh openly rejecting...</td>\n",
       "      <td>[{'text': 'Sikh', 'indices': [22, 27]}, {'text...</td>\n",
       "      <td>3</td>\n",
       "      <td>0</td>\n",
       "      <td>NaN</td>\n",
       "      <td>NaN</td>\n",
       "      <td>[]</td>\n",
       "    </tr>\n",
       "  </tbody>\n",
       "</table>\n",
       "<p>3808 rows × 10 columns</p>\n",
       "</div>"
      ],
      "text/plain": [
       "      Unnamed: 0             user_id           created_at  \\\n",
       "0              0  b'jst1step2Biafra'  2020-10-02 12:37:02   \n",
       "1              1        b'beingvick'  2020-10-02 12:32:12   \n",
       "2              2  b'jst1step2Biafra'  2020-10-02 12:30:56   \n",
       "3              3  b'Randhee25160680'  2020-10-02 12:16:23   \n",
       "4              4        b'ogeiznltd'  2020-10-02 11:20:46   \n",
       "...          ...                 ...                  ...   \n",
       "3803        3318  b'VB_Subrahmanyam'  2020-09-24 12:11:49   \n",
       "3804        3319  b'Sukhlee72644266'  2020-09-24 12:10:35   \n",
       "3805        3320  b'SimranK60419840'  2020-09-24 11:58:58   \n",
       "3806        3321       b'atulsubodh'  2020-09-24 11:58:27   \n",
       "3807        3322  b'KaranpreetDhil3'  2020-09-24 11:54:41   \n",
       "\n",
       "                                                  tweet  \\\n",
       "0     b'YESTERDAY #SitAtHomeOnOctober1st @1stOct #Ni...   \n",
       "1     b'RT @KhalistanIsAJo1: #Pannun - One man, mult...   \n",
       "2     b'YESTERDAY #SitAtHomeOnOctober1st @1stOct #Ni...   \n",
       "3     b'RT @KhalistanIsAJo1: #Pannun - One man, mult...   \n",
       "4     b'RT @JonasMaduakolam: @MaziNnamdiKanu @nassni...   \n",
       "...                                                 ...   \n",
       "3803  b'RT @ChiragdeepDahi1: #ShameOnKhalistaniSuppo...   \n",
       "3804  b'RT @Gsimran07: There is no doubt that #Pakis...   \n",
       "3805  b'RT @Gsimran07: There is no doubt that #Pakis...   \n",
       "3806  b\"RT @Singh_Gurmeeet: A #Sikh openly rejecting...   \n",
       "3807  b\"RT @Singh_Gurmeeet: A #Sikh openly rejecting...   \n",
       "\n",
       "                                               hashtags  retweet_count  \\\n",
       "0     [{'text': 'SitAtHomeOnOctober1st', 'indices': ...              0   \n",
       "1     [{'text': 'Pannun', 'indices': [21, 28]}, {'te...             13   \n",
       "2     [{'text': 'SitAtHomeOnOctober1st', 'indices': ...              0   \n",
       "3     [{'text': 'Pannun', 'indices': [21, 28]}, {'te...             13   \n",
       "4                                                    []              3   \n",
       "...                                                 ...            ...   \n",
       "3803  [{'text': 'ShameOnKhalistaniSupporters', 'indi...             40   \n",
       "3804  [{'text': 'Pakistan', 'indices': [38, 47]}, {'...             50   \n",
       "3805  [{'text': 'Pakistan', 'indices': [38, 47]}, {'...             50   \n",
       "3806  [{'text': 'Sikh', 'indices': [22, 27]}, {'text...              3   \n",
       "3807  [{'text': 'Sikh', 'indices': [22, 27]}, {'text...              3   \n",
       "\n",
       "      favourite_count  tweet_url user_location  \\\n",
       "0                   0        NaN           NaN   \n",
       "1                   0        NaN           NaN   \n",
       "2                   1        NaN           NaN   \n",
       "3                   0        NaN           NaN   \n",
       "4                   0        NaN           NaN   \n",
       "...               ...        ...           ...   \n",
       "3803                0        NaN         India   \n",
       "3804                0        NaN           NaN   \n",
       "3805                0        NaN           NaN   \n",
       "3806                0        NaN        MA USA   \n",
       "3807                0        NaN           NaN   \n",
       "\n",
       "                                             tweet_urls  \n",
       "0     [{'url': 'https://t.co/o0ckHHYVFH', 'expanded_...  \n",
       "1                                                    []  \n",
       "2     [{'url': 'https://t.co/ArUnCfJTXq', 'expanded_...  \n",
       "3                                                    []  \n",
       "4                                                    []  \n",
       "...                                                 ...  \n",
       "3803                                                 []  \n",
       "3804                                                 []  \n",
       "3805                                                 []  \n",
       "3806                                                 []  \n",
       "3807                                                 []  \n",
       "\n",
       "[3808 rows x 10 columns]"
      ]
     },
     "execution_count": 174,
     "metadata": {},
     "output_type": "execute_result"
    }
   ],
   "source": [
    "df1 = pd.read_csv('../Anti-National-Tweets-Classification/dataset/raw_dataset/khalistan_location.csv')\n",
    "df2 = pd.read_csv('../Anti-National-Tweets-Classification/dataset/raw_dataset/Referendum2020_new.csv')\n",
    "df_main = df2.append(df1, ignore_index = True)\n",
    "df_main"
   ]
  },
  {
   "cell_type": "code",
   "execution_count": 181,
   "metadata": {},
   "outputs": [
    {
     "data": {
      "text/plain": [
       "(3808,)"
      ]
     },
     "execution_count": 181,
     "metadata": {},
     "output_type": "execute_result"
    }
   ],
   "source": [
    "df_main.user_location.shape"
   ]
  },
  {
   "cell_type": "code",
   "execution_count": 182,
   "metadata": {},
   "outputs": [
    {
     "name": "stdout",
     "output_type": "stream",
     "text": [
      "(1170,)\n"
     ]
    }
   ],
   "source": [
    "user_locations = df_main[~ df_main['user_location'].isnull()]\n",
    "location_list = []\n",
    "location_list = user_locations.user_location\n",
    "# print(location_list)\n",
    "print(location_list.shape)"
   ]
  },
  {
   "cell_type": "code",
   "execution_count": 183,
   "metadata": {},
   "outputs": [],
   "source": [
    "unclassified_locations = set()\n",
    "predicted_locations = []\n",
    "cnt1 = 0 ;cnt2 = 0;cnt3  = 0;cnt4 = 0"
   ]
  },
  {
   "cell_type": "code",
   "execution_count": 184,
   "metadata": {},
   "outputs": [
    {
     "name": "stdout",
     "output_type": "stream",
     "text": [
      "405 42 343 380\n"
     ]
    }
   ],
   "source": [
    "for place in location_list:\n",
    "    row = {}\n",
    "    try:\n",
    "        value1 = place.split(',')[0].lower().replace(' ','')\n",
    "        value2 = place.split(',')[1].lower().replace(' ','')\n",
    "\n",
    "        if value1 in group1 or value2 in group1:\n",
    "            cnt1 += 1\n",
    "            predicted_locations.append('India')\n",
    "        elif value1 in group2 or value2 in group2:\n",
    "            cnt2 += 1 \n",
    "            predicted_locations.append('US / UK / Canada')\n",
    "        elif value1 in group3 or value2 in group3:\n",
    "            cnt3 += 1 \n",
    "            predicted_locations.append('Pakistan')\n",
    "        else:\n",
    "            temp.add(value1)\n",
    "            temp.add(value2)\n",
    "            cnt4 += 1\n",
    "            predicted_locations.append('Not Classified')\n",
    "\n",
    "    except Exception:\n",
    "#         print('Exception:',place)\n",
    "        place = place.replace(' ','')\n",
    "        if place.lower() in group1:\n",
    "            cnt1 += 1\n",
    "            predicted_locations.append('India')\n",
    "        elif place.lower() in group2:\n",
    "            cnt2 += 1 \n",
    "            predicted_locations.append('US / UK / Canada')\n",
    "        elif place.lower() in group3:\n",
    "            cnt3 += 1 \n",
    "            predicted_locations.append('Pakistan')\n",
    "        else:\n",
    "            unclassified_locations.add(place)\n",
    "            cnt4 += 1\n",
    "            predicted_locations.append('Not Classified')\n",
    "        \n",
    "print(cnt1 ,cnt2 , cnt3 ,cnt4)"
   ]
  },
  {
   "cell_type": "code",
   "execution_count": 185,
   "metadata": {},
   "outputs": [
    {
     "name": "stdout",
     "output_type": "stream",
     "text": [
      "{'', 'Aryavrat', '🌍', '9realms', 'MotherEarth', 'HyderabadIndia', 'landofcholas', 'سوچسےبھیپڑے', 'FARIDABAD', 'Hyderabad', 'Everywhere', 'Cosmos', 'Earth', 'Halloffame😎', 'akhandbharat', 'Bharat', 'भारतवर्ष', \"History'sOriginPoint-India\", 'Bangalore', 'rawalpindi/islamabad', '72Hoors😝', 'आर्यवर्त', 'kathua', 'TamilNadu', 'JammuAndKashmir', '#FreeKashmir', 'DevilsParadise', 'Singapore', 'Earth.', 'bhujGujarat', 'SrinagarPakistan', 'TravelIndia/Can/Aus/Amr', 'JammuAndKashmirUT', 'NewYork', 'canadakansas', 'AgeofAquarius', 'भारत-मुंबई-पंजाब-ENGLAND', 'Jamaica', 'हिंदुस्तान', 'InYourDreams', 'Antarctica-76°10\\'12.4\"S20°03', 'Mars', 'KarachiPakistan', 'Indiaभारत-भूमि', 'Panjab', 'Asia', 'Shillong', 'MAUSA', 'HiteshShahIsanpurAhmedabad', 'Lucknow', 'آپکےپہنچسےدور', 'SaudiArabia', 'proudIndian', '@peaceforchange', 'THEBHAARAT', 'चाहनेवालोंk❤️mनफरतवालों💀m', 'Khalistan', '🇮🇳BahuratnaVasundhara🇮🇳', 'LovePaK.Army.ISI⚘⚘', 'sanatan', 'Navimumbai', 'UK', 'NewZealand', '🇵🇰', 'پاکستان', 'IntheMoment', 'KsheerSagar', 'PkMKB', 'हिन्दूराष्ट्भारत', 'Somewhereonearth', 'LaLaLand', 'ब्रहमाँड', 'हिन्दूस्थानम्🚩', 'HongKong', 'unknown', 'Amritsar', 'U.A.E', 'لاہور،گجرات', 'HYD', 'Rawalpindi||Islamabad', 'PunjabIndia', 'RaiSinghnagar', 'J&K/Bangalore/UK', 'سایہخدائےذوالجلال\\u2066🇵🇰\\u2069', 'Oman', 'भारत', '🇮🇳', 'London|UnitedKingdom', 'kaul', 'रामराज्य', 'KOL', 'US', 'https://youtu.be/KOV0_5VczcY', 'timbaktu', 'HinduRashtra', 'Pakistanپاکستان', 'SanatanVedic(Dar-ul-Harb)', '🚩HindutvaMatters🚩', 'FormallyLudhiana-India', 'FARIDABADa', 'Laboratory', 'UnitedStates', 'Islamabadj&k#chandigarh', 'ਪੰਜਾਬ', 'CHINA', 'Sacramento', 'notimportant', 'EARTH', 'Hindustan', 'worldwide', 'kotarajasthan', 'DelhiIndia', 'Jabalpur', 'PoireiMeitrabak', 'NewDelhi', 'srinagarPakistan', 'MADRAS', 'amalsolandMark', 'TurnOnGPS', 'Inyourmind&heart', 'karachi', 'itly', 'Karachi', 'UnitedArabEmirates', 'BalochistanPakistan', 'India/Toronto', 'R.pindi', 'ਦਿਲਾਂ♥️VicH', 'tensionmain', '🇵🇰🇻🇳🇹🇷', 'World', 'Bhakker', 'InTheDark', '\"RoparpunjabIndia', 'India🇮🇳', 'PLUTO💫', 'AkhandBharat'}\n"
     ]
    }
   ],
   "source": [
    "print(unclassified_locations)"
   ]
  },
  {
   "cell_type": "code",
   "execution_count": 186,
   "metadata": {},
   "outputs": [
    {
     "name": "stderr",
     "output_type": "stream",
     "text": [
      "C:\\Users\\Amey\\Anaconda3\\lib\\site-packages\\ipykernel_launcher.py:1: SettingWithCopyWarning: \n",
      "A value is trying to be set on a copy of a slice from a DataFrame.\n",
      "Try using .loc[row_indexer,col_indexer] = value instead\n",
      "\n",
      "See the caveats in the documentation: https://pandas.pydata.org/pandas-docs/stable/user_guide/indexing.html#returning-a-view-versus-a-copy\n",
      "  \"\"\"Entry point for launching an IPython kernel.\n"
     ]
    }
   ],
   "source": [
    "user_locations['predicted_location'] = (predicted_locations)\n",
    "user_locations['predicted_location'].shape\n",
    "user_locations.to_csv('../Anti-National-Tweets-Classification/dataset/combined_dataset/locations_predicted_tagged.csv')"
   ]
  },
  {
   "cell_type": "code",
   "execution_count": 189,
   "metadata": {},
   "outputs": [
    {
     "data": {
      "image/png": "[encoded data removed]",
      "text/plain": [
       "<Figure size 432x288 with 1 Axes>"
      ]
     },
     "metadata": {},
     "output_type": "display_data"
    }
   ],
   "source": [
    "fig = plt.figure()\n",
    "ax = fig.add_axes([0,0,1,1])\n",
    "ax.axis('equal')\n",
    "ax.pie( [cnt1,cnt2,cnt3] , labels = ['India','USA / UK / Canada','Pakistan'] ,autopct='%1.2f%%')\n",
    "plt.show()"
   ]
  },
  {
   "cell_type": "code",
   "execution_count": 144,
   "metadata": {},
   "outputs": [],
   "source": [
    "analysis_dataframe = pd.read_csv('../Anti-National-Tweets-Classification/dataset/combined_dataset/data_main.csv')"
   ]
  },
  {
   "cell_type": "code",
   "execution_count": null,
   "metadata": {},
   "outputs": [],
   "source": []
  }
 ],
 "metadata": {
  "kernelspec": {
   "display_name": "Python 3",
   "language": "python",
   "name": "python3"
  },
  "language_info": {
   "codemirror_mode": {
    "name": "ipython",
    "version": 3
   },
   "file_extension": ".py",
   "mimetype": "text/x-python",
   "name": "python",
   "nbconvert_exporter": "python",
   "pygments_lexer": "ipython3",
   "version": "3.7.4"
  },
  "toc": {
   "base_numbering": 1,
   "nav_menu": {},
   "number_sections": true,
   "sideBar": true,
   "skip_h1_title": false,
   "title_cell": "Table of Contents",
   "title_sidebar": "Contents",
   "toc_cell": false,
   "toc_position": {},
   "toc_section_display": true,
   "toc_window_display": false
  }
 },
 "nbformat": 4,
 "nbformat_minor": 2
}
