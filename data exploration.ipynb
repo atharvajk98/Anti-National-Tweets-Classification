{
 "cells": [
  {
   "cell_type": "code",
   "execution_count": 171,
   "metadata": {},
   "outputs": [],
   "source": [
    "import pandas as pd\n",
    "import matplotlib.pyplot as plt\n",
    "from collections import Counter\n"
   ]
  },
  {
   "cell_type": "code",
   "execution_count": 9,
   "metadata": {},
   "outputs": [],
   "source": [
    "analysis_dataframe = pd.read_csv('../Anti-National-Tweets-Classification/dataset/raw_dataset/khalistan_main.csv')\n",
    "analysis_dataframe = analysis_dataframe.append(pd.read_csv('../Anti-National-Tweets-Classification/dataset/raw_dataset/Referendum2020.csv'),ignore_index = True)"
   ]
  },
  {
   "cell_type": "code",
   "execution_count": 10,
   "metadata": {},
   "outputs": [
    {
     "data": {
      "text/html": [
       "<div>\n",
       "<style scoped>\n",
       "    .dataframe tbody tr th:only-of-type {\n",
       "        vertical-align: middle;\n",
       "    }\n",
       "\n",
       "    .dataframe tbody tr th {\n",
       "        vertical-align: top;\n",
       "    }\n",
       "\n",
       "    .dataframe thead th {\n",
       "        text-align: right;\n",
       "    }\n",
       "</style>\n",
       "<table border=\"1\" class=\"dataframe\">\n",
       "  <thead>\n",
       "    <tr style=\"text-align: right;\">\n",
       "      <th></th>\n",
       "      <th>Unnamed: 0</th>\n",
       "      <th>user_id</th>\n",
       "      <th>created_at</th>\n",
       "      <th>tweet</th>\n",
       "      <th>hashtags</th>\n",
       "      <th>retweet_count</th>\n",
       "      <th>favourite_count</th>\n",
       "      <th>url</th>\n",
       "      <th>tweet_url</th>\n",
       "    </tr>\n",
       "  </thead>\n",
       "  <tbody>\n",
       "    <tr>\n",
       "      <th>0</th>\n",
       "      <td>0</td>\n",
       "      <td>b'ChopraDilpreet'</td>\n",
       "      <td>2020-09-29 07:08:52</td>\n",
       "      <td>b'This #PIL filed against #Twitter for promoti...</td>\n",
       "      <td>[{'text': 'PIL', 'indices': [5, 9]}, {'text': ...</td>\n",
       "      <td>0</td>\n",
       "      <td>0</td>\n",
       "      <td>[{'url': 'https://t.co/w8OrEmslpu', 'expanded_...</td>\n",
       "      <td>NaN</td>\n",
       "    </tr>\n",
       "    <tr>\n",
       "      <th>1</th>\n",
       "      <td>1</td>\n",
       "      <td>b'jmez1010'</td>\n",
       "      <td>2020-09-29 06:53:52</td>\n",
       "      <td>b\"RT @Jasleen_Kaur11: \\xf0\\x9f\\xa4\\xa3\\xf0\\x9f...</td>\n",
       "      <td>[{'text': 'Kashmir_With_India', 'indices': [85...</td>\n",
       "      <td>5</td>\n",
       "      <td>0</td>\n",
       "      <td>[]</td>\n",
       "      <td>NaN</td>\n",
       "    </tr>\n",
       "    <tr>\n",
       "      <th>2</th>\n",
       "      <td>2</td>\n",
       "      <td>b'jmez1010'</td>\n",
       "      <td>2020-09-29 06:51:23</td>\n",
       "      <td>b\"RT @DarrenVirk: #Pakistan around partition a...</td>\n",
       "      <td>[{'text': 'Pakistan', 'indices': [16, 25]}, {'...</td>\n",
       "      <td>10</td>\n",
       "      <td>0</td>\n",
       "      <td>[]</td>\n",
       "      <td>NaN</td>\n",
       "    </tr>\n",
       "    <tr>\n",
       "      <th>3</th>\n",
       "      <td>3</td>\n",
       "      <td>b'jmez1010'</td>\n",
       "      <td>2020-09-29 06:48:21</td>\n",
       "      <td>b'RT @Harbaks21769227: #Pannun has no shame le...</td>\n",
       "      <td>[{'text': 'Pannun', 'indices': [21, 28]}, {'te...</td>\n",
       "      <td>13</td>\n",
       "      <td>0</td>\n",
       "      <td>[]</td>\n",
       "      <td>NaN</td>\n",
       "    </tr>\n",
       "    <tr>\n",
       "      <th>4</th>\n",
       "      <td>4</td>\n",
       "      <td>b'jmez1010'</td>\n",
       "      <td>2020-09-29 06:39:49</td>\n",
       "      <td>b\"RT @Jasleen_Kaur11: Pannun, a Pakistani pupp...</td>\n",
       "      <td>[]</td>\n",
       "      <td>29</td>\n",
       "      <td>0</td>\n",
       "      <td>[]</td>\n",
       "      <td>NaN</td>\n",
       "    </tr>\n",
       "  </tbody>\n",
       "</table>\n",
       "</div>"
      ],
      "text/plain": [
       "   Unnamed: 0            user_id           created_at  \\\n",
       "0           0  b'ChopraDilpreet'  2020-09-29 07:08:52   \n",
       "1           1        b'jmez1010'  2020-09-29 06:53:52   \n",
       "2           2        b'jmez1010'  2020-09-29 06:51:23   \n",
       "3           3        b'jmez1010'  2020-09-29 06:48:21   \n",
       "4           4        b'jmez1010'  2020-09-29 06:39:49   \n",
       "\n",
       "                                               tweet  \\\n",
       "0  b'This #PIL filed against #Twitter for promoti...   \n",
       "1  b\"RT @Jasleen_Kaur11: \\xf0\\x9f\\xa4\\xa3\\xf0\\x9f...   \n",
       "2  b\"RT @DarrenVirk: #Pakistan around partition a...   \n",
       "3  b'RT @Harbaks21769227: #Pannun has no shame le...   \n",
       "4  b\"RT @Jasleen_Kaur11: Pannun, a Pakistani pupp...   \n",
       "\n",
       "                                            hashtags  retweet_count  \\\n",
       "0  [{'text': 'PIL', 'indices': [5, 9]}, {'text': ...              0   \n",
       "1  [{'text': 'Kashmir_With_India', 'indices': [85...              5   \n",
       "2  [{'text': 'Pakistan', 'indices': [16, 25]}, {'...             10   \n",
       "3  [{'text': 'Pannun', 'indices': [21, 28]}, {'te...             13   \n",
       "4                                                 []             29   \n",
       "\n",
       "   favourite_count                                                url  \\\n",
       "0                0  [{'url': 'https://t.co/w8OrEmslpu', 'expanded_...   \n",
       "1                0                                                 []   \n",
       "2                0                                                 []   \n",
       "3                0                                                 []   \n",
       "4                0                                                 []   \n",
       "\n",
       "  tweet_url  \n",
       "0       NaN  \n",
       "1       NaN  \n",
       "2       NaN  \n",
       "3       NaN  \n",
       "4       NaN  "
      ]
     },
     "execution_count": 10,
     "metadata": {},
     "output_type": "execute_result"
    }
   ],
   "source": [
    "analysis_dataframe.head()"
   ]
  },
  {
   "cell_type": "code",
   "execution_count": 11,
   "metadata": {},
   "outputs": [
    {
     "name": "stdout",
     "output_type": "stream",
     "text": [
      "Shape of data: (5289, 9)\n"
     ]
    }
   ],
   "source": [
    "print('Shape of data:',analysis_dataframe.shape)"
   ]
  },
  {
   "cell_type": "code",
   "execution_count": 199,
   "metadata": {},
   "outputs": [
    {
     "name": "stdout",
     "output_type": "stream",
     "text": [
      "Distribution of tweet frequency per day :\n",
      "\n",
      "2020-09-20    1520\n",
      "2020-09-26    1301\n",
      "2020-09-23     568\n",
      "2020-09-28     428\n",
      "2020-09-24     421\n",
      "2020-09-27     326\n",
      "2020-09-21     275\n",
      "2020-09-22     250\n",
      "2020-09-25     168\n",
      "2020-09-29      32\n",
      "Name: created_at, dtype: int64\n"
     ]
    }
   ],
   "source": [
    "#----------------Day wise distribution-------------------------------------------------\n",
    "dates = analysis_dataframe.created_at\n",
    "dates = dates.map(lambda created_at: created_at.split(' ')[0])\n",
    "print('Distribution of tweet frequency per day :\\n')\n",
    "print(dates.value_counts())\n",
    "date_freq = dates.value_counts()\n"
   ]
  },
  {
   "cell_type": "code",
   "execution_count": 198,
   "metadata": {},
   "outputs": [
    {
     "data": {
      "image/png": "[encoded data removed]",
      "text/plain": [
       "<Figure size 432x288 with 1 Axes>"
      ]
     },
     "metadata": {
      "needs_background": "light"
     },
     "output_type": "display_data"
    }
   ],
   "source": [
    "plt.bar(range(len(dates.value_counts())), list(dates.value_counts()), align='center')\n",
    "plt.xticks(range(len(dates.value_counts())), list(key for key in date_freq.keys()),rotation='vertical')\n",
    "plt.show()"
   ]
  },
  {
   "cell_type": "code",
   "execution_count": 222,
   "metadata": {},
   "outputs": [
    {
     "name": "stdout",
     "output_type": "stream",
     "text": [
      "Top retweeted tweet\n",
      "\n",
      "Tweet: b'RT @iVeenaKhan: Unemployment, drugs, and water-related issues have forced  Sikh farmers to commit suicide. Every Indian citizen must stand\\xe2\\x80\\xa6' \n",
      "\n",
      "Count: 496\n"
     ]
    }
   ],
   "source": [
    "#----------------Top 5 retweets-------------------------------------------------\n",
    "retweet_freq = analysis_dataframe.nlargest(10, ['retweet_count']) \n",
    "print('Top retweeted tweet\\n')\n",
    "print('Tweet:',retweet_freq.tweet.values[0],'\\n\\nCount:',retweet_freq.retweet_count.values[0])"
   ]
  },
  {
   "cell_type": "code",
   "execution_count": 157,
   "metadata": {},
   "outputs": [
    {
     "name": "stdout",
     "output_type": "stream",
     "text": [
      "Top favourited tweet\n",
      "\n",
      "Tweet: b'Petition in Delhi High Court against @Twitter whose \"servers were used for the promotion of #Khalistan\". Some serio\\xe2\\x80\\xa6 https://t.co/kcXCsK6wAv' \n",
      "\n",
      "Count: 419\n"
     ]
    }
   ],
   "source": [
    "favorite_freq = analysis_dataframe.nlargest(10, ['favourite_count']) \n",
    "print('Top favourited tweet\\n')\n",
    "print('Tweet:',favorite_freq.tweet.values[0],'\\n\\nCount:',favorite_freq.favourite_count.values[0])"
   ]
  },
  {
   "cell_type": "code",
   "execution_count": 212,
   "metadata": {},
   "outputs": [
    {
     "name": "stdout",
     "output_type": "stream",
     "text": [
      "Top 25 related hashtags\n",
      "\n",
      "Khalistan                  301\n",
      "SFJ                        227\n",
      "PunjabFarmers              116\n",
      "GheraoModi                  81\n",
      "Modi                        77\n",
      "khalistan                   66\n",
      "Referendum2020              50\n",
      "BharatBandh                 41\n",
      "Pannun                      35\n",
      "Punjab                      34\n",
      "KhalistanReferendum2020     32\n",
      "ModiAtUN                    30\n",
      "TerryFox                    30\n",
      "Register2Vote2020           26\n",
      "Pakistan                    26\n",
      "Sikh                        24\n",
      "modi                        24\n",
      "MODIAtUN                    22\n",
      "BaharatBandh                19\n",
      "Sikhs                       19\n",
      "Indian                      18\n",
      "Canada4Khalistan            18\n",
      "India                       17\n",
      "SikhCommunity               17\n",
      "TruckRally                  17\n",
      "dtype: int64\n"
     ]
    }
   ],
   "source": [
    "hashtag_list = pd.read_csv('../Anti-National-Tweets-Classification/dataset/combined_dataset/data_main.csv')\n",
    "hashtag_list = hashtag_list[hashtag_list['label'] == 1]\n",
    "hashtag_list = hashtag_list.hashtags\n",
    "hashtag_list = hashtag_list.value_counts().keys()\n",
    "\n",
    "\n",
    "def get_hashtags(hashtag_list):\n",
    "    hashtags = []\n",
    "    for i in hashtag_list:\n",
    "        j = i.replace('[','')\n",
    "        j = j.replace(']','')\n",
    "        j = j.replace(\"''\",\"\")\n",
    "        j = j.replace(' ','')\n",
    "        j = j.split(',')\n",
    "        for k in j:\n",
    "            k = k.replace(\"'\",\"\")\n",
    "            hashtags.append(k)\n",
    "            \n",
    "    return hashtags\n",
    "\n",
    "hashtags = get_hashtags(hashtag_list)\n",
    "\n",
    "freq_hashtags = pd.Series(Counter(hashtags)).sort_values(ascending=False)\n",
    "print('Top 25 related hashtags\\n')\n",
    "print(freq_hashtags.head(25))"
   ]
  },
  {
   "cell_type": "code",
   "execution_count": 220,
   "metadata": {},
   "outputs": [
    {
     "data": {
      "image/png": "[encoded data removed]",
      "text/plain": [
       "<Figure size 432x288 with 1 Axes>"
      ]
     },
     "metadata": {
      "needs_background": "light"
     },
     "output_type": "display_data"
    }
   ],
   "source": [
    "plt.bar(range(len(freq_hashtags.head(15))), list(freq_hashtags.head(15)), align='center')\n",
    "plt.xticks(range(len(freq_hashtags.head(15))), list(key for key in freq_hashtags.head(15).keys()),rotation='vertical')\n",
    "plt.show()"
   ]
  },
  {
   "cell_type": "code",
   "execution_count": null,
   "metadata": {},
   "outputs": [],
   "source": []
  }
 ],
 "metadata": {
  "kernelspec": {
   "display_name": "Python 3",
   "language": "python",
   "name": "python3"
  },
  "language_info": {
   "codemirror_mode": {
    "name": "ipython",
    "version": 3
   },
   "file_extension": ".py",
   "mimetype": "text/x-python",
   "name": "python",
   "nbconvert_exporter": "python",
   "pygments_lexer": "ipython3",
   "version": "3.7.4"
  },
  "toc": {
   "base_numbering": 1,
   "nav_menu": {},
   "number_sections": true,
   "sideBar": true,
   "skip_h1_title": false,
   "title_cell": "Table of Contents",
   "title_sidebar": "Contents",
   "toc_cell": false,
   "toc_position": {},
   "toc_section_display": true,
   "toc_window_display": false
  }
 },
 "nbformat": 4,
 "nbformat_minor": 2
}
